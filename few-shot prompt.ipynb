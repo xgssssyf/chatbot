{
 "cells": [
  {
   "cell_type": "code",
   "execution_count": 4,
   "id": "dc7b7f90-ac01-4f0a-8be5-283f858d063d",
   "metadata": {},
   "outputs": [
    {
     "name": "stdout",
     "output_type": "stream",
     "text": [
      "🎯 Loading model, please wait...\n",
      "==((====))==  Unsloth 2025.7.3: Fast Llama patching. Transformers: 4.53.2.\n",
      "   \\\\   /|    NVIDIA GeForce RTX 4070 Laptop GPU. Num GPUs = 1. Max memory: 7.996 GB. Platform: Windows.\n",
      "O^O/ \\_/ \\    Torch: 2.7.1+cu126. CUDA: 8.9. CUDA Toolkit: 12.6. Triton: 3.3.1\n",
      "\\        /    Bfloat16 = TRUE. FA [Xformers = 0.0.31.post1. FA2 = False]\n",
      " \"-____-\"     Free license: http://github.com/unslothai/unsloth\n",
      "Unsloth: Fast downloading is enabled - ignore downloading bars which are red colored!\n"
     ]
    },
    {
     "name": "stderr",
     "output_type": "stream",
     "text": [
      "Device set to use cuda:0\n"
     ]
    },
    {
     "name": "stdout",
     "output_type": "stream",
     "text": [
      "✅ Model loaded. Building chat chain...\n",
      "🤖 Career Advice Chatbot is ready! Enter your questions (type 'exit' to quit).\n"
     ]
    },
    {
     "name": "stdin",
     "output_type": "stream",
     "text": [
      "\n",
      "You:  Is making more money the primary reason for job hopping as a software engineer?\n"
     ]
    },
    {
     "name": "stdout",
     "output_type": "stream",
     "text": [
      "\n",
      "AI: While salary is an essential factor, it's often not the only motivation for software engineers to switch jobs. Many factors come into play, including personal fulfillment, growth opportunities, company culture, and work-life balance. In fact, research suggests that employees who stay longer tend to experience higher job satisfaction. As a software engineer, focus on building meaningful relationships, developing new skills, and finding a workplace environment that aligns with your values and interests. Salary will likely follow naturally if you prioritize your long-term career goals.\n"
     ]
    },
    {
     "name": "stdin",
     "output_type": "stream",
     "text": [
      "\n",
      "You:  exit\n"
     ]
    },
    {
     "name": "stdout",
     "output_type": "stream",
     "text": [
      "👋 Goodbye! Wish you success in your career!\n"
     ]
    }
   ],
   "source": [
    "# career_advice_bot.py\n",
    "\n",
    "from unsloth import FastLanguageModel\n",
    "from transformers import pipeline\n",
    "from langchain.llms import HuggingFacePipeline\n",
    "from langchain.prompts import PromptTemplate\n",
    "from langchain.chains import LLMChain\n",
    "import torch\n",
    "\n",
    "def load_model():\n",
    "    model_id = \"unsloth/Llama-3.2-3B-Instruct-bnb-4bit\"\n",
    "    # meta-llama/Meta-Llama-3-8B-Instruct\n",
    "    # deepseek-ai/deepseek-llm-7b-chat\n",
    "    max_seq_length = 2048\n",
    "\n",
    "    model, tokenizer = FastLanguageModel.from_pretrained(\n",
    "        model_name=model_id,\n",
    "        max_seq_length=max_seq_length,\n",
    "        dtype=torch.float16,\n",
    "        load_in_4bit=True,\n",
    "    )\n",
    "\n",
    "    model.eval()\n",
    "    tokenizer.padding_side = \"right\"\n",
    "\n",
    "    pipe = pipeline(\n",
    "        \"text-generation\",\n",
    "        model=model,\n",
    "        tokenizer=tokenizer,\n",
    "        max_new_tokens=512,\n",
    "        temperature=0.7,\n",
    "        do_sample=True,\n",
    "        top_p=0.9,\n",
    "        repetition_penalty=1.1,\n",
    "    )\n",
    "\n",
    "    return HuggingFacePipeline(pipeline=pipe)\n",
    "\n",
    "\n",
    "def build_prompt():\n",
    "    template = \"\"\"\n",
    "You are a professional career advice AI chatbot, specializing in helping undergraduate and postgraduate students with their career questions.  \n",
    "Provide accurate, encouraging, and practical advice based on the student’s question.\n",
    "\n",
    "Here are some examples of how you should respond:\n",
    "\n",
    "Student: I’m about to graduate and don’t know how to write a resume. Can you help?  \n",
    "Chatbot: Of course! A good resume highlights your education, internships, and skills clearly. Keep it concise—usually one page is best. I can suggest some resume templates or connect you with a career advisor for more personalized help.\n",
    "\n",
    "Student: I’m not sure what career suits me. Any advice?  \n",
    "Chatbot: That’s a common concern. You might want to try some career interest assessments to learn more about your strengths and preferences. Attending career talks and workshops can also help. If you want, I can help you book a session with a career counselor for deeper guidance.\n",
    "\n",
    "Student: Where can I find internship opportunities?  \n",
    "Chatbot: Great question! Popular internship websites include LinkedIn, Indeed, and your university’s career portal. Also, consider attending job fairs and networking with alumni. I can help you create an internship application plan if you'd like.\n",
    "\n",
    "Student: I feel anxious about my future and don’t know what to do.  \n",
    "Chatbot: It’s completely normal to feel this way. Try some relaxation techniques and talk to friends or mentors about your concerns. If you need more support, I recommend reaching out to your university’s counseling or career services.\n",
    "\n",
    "Student: Can you tell me about the hiring process at a specific company?  \n",
    "Chatbot: Detailed info about specific company hiring processes can be complex. I suggest contacting your university’s career center or your tutor for personalized advice. Meanwhile, I can help find publicly available info if you want.\n",
    "\n",
    "Now, please answer the following question accordingly:\n",
    "\n",
    "Student: {question}\n",
    "Chatbot:\"\"\"\n",
    "    return PromptTemplate.from_template(template)\n",
    "\n",
    "\n",
    "def create_chain(llm, prompt_template):\n",
    "    return LLMChain(llm=llm, prompt=prompt_template)\n",
    "\n",
    "\n",
    "def main():\n",
    "    print(\"🎯 Loading model, please wait...\")\n",
    "    llm = load_model()\n",
    "\n",
    "    print(\"✅ Model loaded. Building chat chain...\")\n",
    "    prompt_template = build_prompt()\n",
    "    qa_chain = create_chain(llm, prompt_template)\n",
    "\n",
    "    print(\"🤖 Career Advice Chatbot is ready! Enter your questions (type 'exit' to quit).\")\n",
    "\n",
    "    while True:\n",
    "        user_input = input(\"\\nYou: \")\n",
    "        if user_input.lower() in [\"exit\", \"quit\"]:\n",
    "            print(\"👋 Goodbye! Wish you success in your career!\")\n",
    "            break\n",
    "\n",
    "        # Use invoke() to get output only, avoid printing the whole prompt\n",
    "        raw = qa_chain.invoke({\"question\": user_input})[\"text\"]\n",
    "        answer = raw.split(\"Chatbot:\")[-1].strip()\n",
    "        print(f\"\\nAI: {answer}\")\n",
    "\n",
    "\n",
    "\n",
    "if __name__ == \"__main__\":\n",
    "    main()\n"
   ]
  },
  {
   "cell_type": "code",
   "execution_count": null,
   "id": "720b9a5e-6cd6-4b4c-b5d1-2708c1f92fc7",
   "metadata": {},
   "outputs": [],
   "source": []
  }
 ],
 "metadata": {
  "kernelspec": {
   "display_name": "Python (chatbot)",
   "language": "python",
   "name": "chatbot"
  },
  "language_info": {
   "codemirror_mode": {
    "name": "ipython",
    "version": 3
   },
   "file_extension": ".py",
   "mimetype": "text/x-python",
   "name": "python",
   "nbconvert_exporter": "python",
   "pygments_lexer": "ipython3",
   "version": "3.11.13"
  }
 },
 "nbformat": 4,
 "nbformat_minor": 5
}
